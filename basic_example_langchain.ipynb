{
  "nbformat": 4,
  "nbformat_minor": 0,
  "metadata": {
    "colab": {
      "provenance": [],
      "authorship_tag": "ABX9TyO+7jCCFvUV16miQs/krSqi",
      "include_colab_link": true
    },
    "kernelspec": {
      "name": "python3",
      "display_name": "Python 3"
    },
    "language_info": {
      "name": "python"
    }
  },
  "cells": [
    {
      "cell_type": "markdown",
      "metadata": {
        "id": "view-in-github",
        "colab_type": "text"
      },
      "source": [
        "<a href=\"https://colab.research.google.com/github/GianfrancoCorrea/langchain-example/blob/main/basic_example_langchain.ipynb\" target=\"_parent\"><img src=\"https://colab.research.google.com/assets/colab-badge.svg\" alt=\"Open In Colab\"/></a>"
      ]
    },
    {
      "cell_type": "code",
      "execution_count": null,
      "metadata": {
        "id": "w8D_HsbWgyjt"
      },
      "outputs": [],
      "source": [
        "!pip3 install openai langchain"
      ]
    },
    {
      "cell_type": "code",
      "source": [
        "from langchain.chat_models import ChatOpenAI\n",
        "from langchain.chains import LLMChain\n",
        "from langchain.memory import ConversationBufferMemory\n",
        "from langchain.prompts import (\n",
        "    SystemMessagePromptTemplate,\n",
        "    HumanMessagePromptTemplate,\n",
        "    ChatPromptTemplate,\n",
        "    PromptTemplate,\n",
        ")\n",
        "import os\n",
        "\n",
        "# get the api key from https://platform.openai.com/account/api-keys\n",
        "os.environ[\"OPENAI_API_KEY\"] = \"OpenAI api key\"\n",
        "\n",
        "# model\n",
        "llm = ChatOpenAI(\n",
        "    temperature=0,\n",
        "    model_name=\"gpt-3.5-turbo\",  # type: ignore\n",
        "    request_timeout=120,\n",
        "    client=None,\n",
        ")\n",
        "\n",
        "# prompt templates\n",
        "system_template_output_format = PromptTemplate(\n",
        "    input_variables=[],\n",
        "    template=\"\"\"You are a helpful assitant.\n",
        "    \"\"\",\n",
        ")\n",
        "\n",
        "human_template_output_format = PromptTemplate(\n",
        "    input_variables=[\"content\"], template=\"{content}\"\n",
        ")\n",
        "\n",
        "# chat prompts objects\n",
        "system_message_prompt = SystemMessagePromptTemplate.from_template(system_template_output_format.template)\n",
        "human_message_prompt = HumanMessagePromptTemplate.from_template(human_template_output_format.template)\n",
        "chat_prompt = ChatPromptTemplate.from_messages([system_message_prompt, human_message_prompt])\n",
        "\n",
        "\n",
        "# chat memory\n",
        "content_memory = ConversationBufferMemory(\n",
        "    input_key=\"content\", memory_key=\"chat_history\"\n",
        ")\n",
        "\n",
        "# chain\n",
        "chain = LLMChain(\n",
        "    llm=llm,\n",
        "    prompt=chat_prompt,\n",
        "    verbose=True,\n",
        "    output_key=\"output_format\",\n",
        "    memory=content_memory,\n",
        ")\n",
        "\n"
      ],
      "metadata": {
        "id": "Gob_gih4gzsg"
      },
      "execution_count": null,
      "outputs": []
    },
    {
      "cell_type": "code",
      "source": [
        "chain.run(content=\"hola\")"
      ],
      "metadata": {
        "colab": {
          "base_uri": "https://localhost:8080/",
          "height": 192
        },
        "id": "ypg3_W7wg4N1",
        "outputId": "5a904506-f08a-4272-aec5-54dd5f605e02"
      },
      "execution_count": null,
      "outputs": [
        {
          "output_type": "stream",
          "name": "stdout",
          "text": [
            "\n",
            "\n",
            "\u001b[1m> Entering new LLMChain chain...\u001b[0m\n",
            "Prompt after formatting:\n",
            "\u001b[32;1m\u001b[1;3mSystem: You are a helpful assitant.\n",
            "    \n",
            "Human: hola\u001b[0m\n",
            "\n",
            "\u001b[1m> Finished chain.\u001b[0m\n"
          ]
        },
        {
          "output_type": "execute_result",
          "data": {
            "text/plain": [
              "'¡Hola! ¿En qué puedo ayudarte hoy?'"
            ],
            "application/vnd.google.colaboratory.intrinsic+json": {
              "type": "string"
            }
          },
          "metadata": {},
          "execution_count": 3
        }
      ]
    }
  ]
}